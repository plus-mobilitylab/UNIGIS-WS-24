{
 "cells": [
  {
   "cell_type": "markdown",
   "metadata": {},
   "source": [
    "# Interactive Notebook: Network Assessment for Active Mobility\n",
    "\n",
    "This Jupyter-Notebook guides through several network assessments based on NetAScore output.\n",
    "In order to execute this Notebook, please make sure to have all requirements fulfilled - please follow the instructions in [README.md](README.md).\n",
    "\n",
    "If you do not have a NetAScore output file at hand, please download one of the example files from https://doi.org/10.5281/zenodo.10886962 and place it inside the subdirectory `NetAScore/data/`."
   ]
  },
  {
   "cell_type": "code",
   "execution_count": null,
   "metadata": {},
   "outputs": [],
   "source": [
    "# import required packages\n",
    "import geopandas as gpd\n",
    "import networkx as nx\n",
    "import os\n",
    "\n",
    "# settings\n",
    "case_id = \"at_salzburg\"\n",
    "\n",
    "# computed properties\n",
    "net_file = os.path.join(\"NetAScore\", \"data\", f\"netascore_{case_id}.gpkg\")"
   ]
  },
  {
   "cell_type": "markdown",
   "metadata": {},
   "source": [
    "## Load the network and start exploring bikeability...\n",
    "Here, we load the network which was processed by NetAScore and output the first 10 rows (edges)."
   ]
  },
  {
   "cell_type": "code",
   "execution_count": null,
   "metadata": {},
   "outputs": [],
   "source": [
    "net = gpd.read_file(net_file, layer=\"edge\")\n",
    "net.head()"
   ]
  },
  {
   "cell_type": "markdown",
   "metadata": {},
   "source": [
    "Let's filter the network to only show segments with high bikeability and display the result on a map."
   ]
  },
  {
   "cell_type": "code",
   "execution_count": null,
   "metadata": {},
   "outputs": [],
   "source": [
    "net[net.index_bike_ft > 0.75].explore()"
   ]
  },
  {
   "cell_type": "markdown",
   "metadata": {},
   "source": [
    "We can also choose a different basemap with reduced color scheme:\n",
    "(see online documentation for more options: [GeoDataFrame.explore()](https://geopandas.org/en/stable/docs/reference/api/geopandas.GeoDataFrame.explore.html))"
   ]
  },
  {
   "cell_type": "code",
   "execution_count": null,
   "metadata": {},
   "outputs": [],
   "source": [
    "net[net.index_bike_ft > 0.75].explore(tiles=\"CartoDB Positron\")"
   ]
  },
  {
   "cell_type": "markdown",
   "metadata": {},
   "source": [
    "...and we can further apply a color scheme to plot the high-bikeability according to their bikeability value:"
   ]
  },
  {
   "cell_type": "code",
   "execution_count": null,
   "metadata": {},
   "outputs": [],
   "source": [
    "net[net.index_bike_ft > 0.75].explore(column=\"index_bike_ft\", cmap=\"Blues\", tiles=\"CartoDB Positron\")"
   ]
  },
  {
   "cell_type": "markdown",
   "metadata": {},
   "source": [
    "## Let's prepare our network for routing...\n",
    "First, we need to generate a directed graph from our input data. Having an input edge (A<->B) with an index_ft and index_tf will result in two rows: (A->B, index_ft) and (B->A, index_tf). \n",
    "Furthermore, we want to not only compute shortest paths, but allow for computing bikeable routes as well. For this, we need to compute a routing cost per segment. This can be regarded as perceived distance: better suitability means perceived distance is close to real distance, low suitability results in perceived distance is (1+ROUTING_FACTOR) * length (with default setting: up to five times real segment length).\n",
    "All of these steps are outsourced into a function `netascore_to_routable_net` which is defined in [algo/net_helper.py](algo/net_helper.py).\n",
    "\n",
    "To execute this step, we simply call the function as follows:"
   ]
  },
  {
   "cell_type": "code",
   "execution_count": null,
   "metadata": {},
   "outputs": [],
   "source": [
    "import algo.net_helper as nh\n",
    "net_routing = nh.netascore_to_routable_net(net)"
   ]
  },
  {
   "cell_type": "markdown",
   "metadata": {},
   "source": [
    "Next, we have to create a NetworkX graph object from our edge list representation of the network.\n",
    "We use a `MultiDiGraph` to allow for multiple directed links between nodes:"
   ]
  },
  {
   "cell_type": "code",
   "execution_count": null,
   "metadata": {},
   "outputs": [],
   "source": [
    "g = nx.from_pandas_edgelist(net_routing, source='from_node', target='to_node', \n",
    "                            edge_attr=True, create_using=nx.MultiDiGraph, edge_key=\"edge_id\")\n",
    "g"
   ]
  },
  {
   "cell_type": "markdown",
   "metadata": {},
   "source": [
    "## Load and display the nodes layer\n",
    "As basis for computing routes between pairs of nodes of the network, we will first load and display the nodes layer."
   ]
  },
  {
   "cell_type": "code",
   "execution_count": null,
   "metadata": {},
   "outputs": [],
   "source": [
    "nodes = gpd.read_file(net_file, engine='pyogrio', fid_as_index=True, layer=\"node\")\n",
    "# filter for largest connected component\n",
    "n_con_comp = max(nx.weakly_connected_components(g), key=len)\n",
    "print(f\"Largest connected component: {len(n_con_comp)} nodes out of {len(g)}\")\n",
    "nodes = nodes.loc[list(n_con_comp)]\n",
    "nodes.explore(tiles=\"CartoDB Positron\", marker_kwds={\"radius\":2}, style_kwds={\"stroke\":False})"
   ]
  },
  {
   "cell_type": "markdown",
   "metadata": {},
   "source": [
    "Next, we can manually select an origin node as well as a destination node from the interactive map and assign the respective nodeIDs to the variables `from_node` and `to_node`."
   ]
  },
  {
   "cell_type": "code",
   "execution_count": null,
   "metadata": {},
   "outputs": [],
   "source": [
    "from_node = 21181  #20741\n",
    "to_node = 23302  #25235"
   ]
  },
  {
   "cell_type": "markdown",
   "metadata": {},
   "source": [
    "## Compute routes\n",
    "Now, we can compute routes...\n",
    "### General routing approach"
   ]
  },
  {
   "cell_type": "code",
   "execution_count": null,
   "metadata": {},
   "outputs": [],
   "source": [
    "npath = nx.shortest_path(g, from_node, to_node) # this call results in computing the shortest (lowest number of passed segments) path\n",
    "npath"
   ]
  },
  {
   "cell_type": "markdown",
   "metadata": {},
   "source": [
    "For visualization, we need to retrieve an edge sequence from the node sequence returned by `nx.shortest_path`:"
   ]
  },
  {
   "cell_type": "code",
   "execution_count": null,
   "metadata": {},
   "outputs": [],
   "source": [
    "# get edge sequence (edge IDs)\n",
    "def get_epath(nseq):\n",
    "    ep = []\n",
    "    for i in range(len(nseq)-1):\n",
    "        dta = g.get_edge_data(nseq[i], nseq[i+1])\n",
    "        eid = list(dta.keys())[0]\n",
    "        ep.append(eid)\n",
    "    return ep\n",
    "\n",
    "epath = get_epath(npath)\n",
    "epath"
   ]
  },
  {
   "cell_type": "code",
   "execution_count": null,
   "metadata": {},
   "outputs": [],
   "source": [
    "m = net.loc[epath].explore(tiles=\"CartoDB Positron\")\n",
    "nodes.loc[[from_node, to_node]].explore(m=m, color=[\"green\", \"red\"], marker_kwds={\"radius\":5}, style_kwds={\"weight\":2})"
   ]
  },
  {
   "cell_type": "markdown",
   "metadata": {},
   "source": [
    "### Shortest distance path\n",
    "In order to retrieve the shortest distance path, we need to specify the edge weight column - in this case we use the \"length\" attribute."
   ]
  },
  {
   "cell_type": "code",
   "execution_count": null,
   "metadata": {},
   "outputs": [],
   "source": [
    "shortest_dist_path = get_epath(nx.shortest_path(g, from_node, to_node, weight=\"length\"))\n",
    "m = net_routing.loc[shortest_dist_path].explore(tiles=\"CartoDB Positron\", tooltip=[\"cost_bike_ft\"])\n",
    "nodes.loc[[from_node, to_node]].explore(m=m, color=[\"green\", \"red\"], marker_kwds={\"radius\":5}, style_kwds={\"weight\":2})"
   ]
  },
  {
   "cell_type": "markdown",
   "metadata": {},
   "source": [
    "### Bikeable path\n",
    "Here, we use the `cost_bike_ft` column which contains our pre-computed \"perceived distance\" value."
   ]
  },
  {
   "cell_type": "code",
   "execution_count": null,
   "metadata": {},
   "outputs": [],
   "source": [
    "bikeable_path = get_epath(nx.shortest_path(g, from_node, to_node, weight=\"cost_bike_ft\"))\n",
    "m = net.loc[bikeable_path].explore(tiles=\"CartoDB Positron\")\n",
    "nodes.loc[[from_node, to_node]].explore(m=m, color=[\"green\", \"red\"], marker_kwds={\"radius\":5}, style_kwds={\"weight\":2})"
   ]
  },
  {
   "cell_type": "markdown",
   "metadata": {},
   "source": [
    "## Additionally retrieve edge length and bikeability values\n",
    "To allow retrieving additional attributes, we need to keep track of the direction of edge traversal in addition to the edge ID."
   ]
  },
  {
   "cell_type": "code",
   "execution_count": null,
   "metadata": {},
   "outputs": [],
   "source": [
    "import pandas as pd\n",
    "# get edge sequence including \"inverted\" attribute (direction of traversal)\n",
    "def get_epath_dir(nseq):\n",
    "    ep = []\n",
    "    inv = []\n",
    "    for i in range(len(nseq)-1):\n",
    "        dta = g.get_edge_data(nseq[i], nseq[i+1])\n",
    "        eid = list(dta.keys())[0]\n",
    "        ep.append(eid)\n",
    "        inv.append(dta[eid][\"inv\"])\n",
    "        #print(eid,dta[eid][\"inv\"])\n",
    "    return pd.DataFrame(data={\"edge_id\":ep, \"inv\":inv})\n"
   ]
  },
  {
   "cell_type": "code",
   "execution_count": null,
   "metadata": {},
   "outputs": [],
   "source": [
    "bp = get_epath_dir(nx.shortest_path(g, from_node, to_node, weight=\"cost_bike_ft\"))\n",
    "bp.head(5)"
   ]
  },
  {
   "cell_type": "markdown",
   "metadata": {},
   "source": [
    "Now we have to prepare the \"net_routing\" DataFrame for allowing join operations with the routing result. For this, we now need to have a MultiIndex, allowing to jointly query/filter based on `edge_id` and `inv`."
   ]
  },
  {
   "cell_type": "code",
   "execution_count": null,
   "metadata": {},
   "outputs": [],
   "source": [
    "net_routing.head(5)"
   ]
  },
  {
   "cell_type": "code",
   "execution_count": null,
   "metadata": {},
   "outputs": [],
   "source": [
    "net_join = net_routing.set_index([\"edge_id\", \"inv\"])\n",
    "net_join.head(5)"
   ]
  },
  {
   "cell_type": "markdown",
   "metadata": {},
   "source": [
    "In the following step we can join the path result with the just prepared network data by the joint key, using the edge ID and direction (inv)."
   ]
  },
  {
   "cell_type": "code",
   "execution_count": null,
   "metadata": {},
   "outputs": [],
   "source": [
    "bp_joined = net_join.join(bp.set_index([\"edge_id\", \"inv\"]), how=\"right\")\n",
    "bp_joined.head(5)"
   ]
  },
  {
   "cell_type": "markdown",
   "metadata": {},
   "source": [
    "This now allows us to plot additional route characteristics - here, the bikeability of each segment:"
   ]
  },
  {
   "cell_type": "code",
   "execution_count": null,
   "metadata": {},
   "outputs": [],
   "source": [
    "m = bp_joined.explore(tiles=\"CartoDB Positron\", column=\"index_bike_ft\", cmap=\"RdYlGn\", vmin=0, vmax=1)\n",
    "nodes.loc[[from_node, to_node]].explore(m=m, color=[\"green\", \"red\"], marker_kwds={\"radius\":5}, style_kwds={\"weight\":2})"
   ]
  },
  {
   "cell_type": "markdown",
   "metadata": {},
   "source": [
    "...we may also filter the results based on bikeability - here, only very suitable segments (bikeability > 0.7) are shown:"
   ]
  },
  {
   "cell_type": "code",
   "execution_count": null,
   "metadata": {},
   "outputs": [],
   "source": [
    "m = bp_joined[bp_joined.index_bike_ft > 0.7].explore(tiles=\"CartoDB Positron\", column=\"index_bike_ft\", cmap=\"RdYlGn\", vmin=0, vmax=1)\n",
    "nodes.loc[[from_node, to_node]].explore(m=m, color=[\"green\", \"red\"], marker_kwds={\"radius\":5}, style_kwds={\"weight\":2})"
   ]
  },
  {
   "cell_type": "markdown",
   "metadata": {},
   "source": [
    "...and we can compute additional path statistics:"
   ]
  },
  {
   "cell_type": "code",
   "execution_count": null,
   "metadata": {},
   "outputs": [],
   "source": [
    "def get_path_stats(path_df):\n",
    "    length = path_df[\"length\"].sum()\n",
    "    length_weighted_avg_index = (path_df.index_bike_ft * path_df.length).sum() / path_df.length.sum()\n",
    "    min_index = path_df.index_bike_ft.min()\n",
    "    max_index = path_df.index_bike_ft.max()\n",
    "    return pd.Series({\"total_length\": length, \"length_weighted_avg_index\": length_weighted_avg_index, \n",
    "         \"min_index\": min_index, \"max_index\": max_index})"
   ]
  },
  {
   "cell_type": "code",
   "execution_count": null,
   "metadata": {},
   "outputs": [],
   "source": [
    "get_path_stats(bp_joined)"
   ]
  },
  {
   "cell_type": "markdown",
   "metadata": {},
   "source": [
    "## Make the routing part easily re-usable"
   ]
  },
  {
   "cell_type": "code",
   "execution_count": null,
   "metadata": {},
   "outputs": [],
   "source": [
    "def routing(from_node:int, to_node:int, compute_bikeable_path:bool, display_route:bool):\n",
    "    weight_col = \"cost_bike_ft\"\n",
    "    if not compute_bikeable_path:\n",
    "        weight_col = \"length\"\n",
    "    path = get_epath_dir(nx.shortest_path(g, from_node, to_node, weight=weight_col))\n",
    "    net_join = net_routing.set_index([\"edge_id\", \"inv\"])\n",
    "    path_joined = net_join.join(path.set_index([\"edge_id\", \"inv\"]), how=\"right\")\n",
    "    if display_route:\n",
    "        m = path_joined.explore(tiles=\"CartoDB Positron\", column=\"index_bike_ft\", cmap=\"RdYlGn\", vmin=0, vmax=1)\n",
    "        display(nodes.loc[[from_node, to_node]].explore(m=m, color=[\"green\", \"red\"], marker_kwds={\"radius\":5}, style_kwds={\"weight\":2}))\n",
    "    return get_path_stats(path_joined)"
   ]
  },
  {
   "cell_type": "code",
   "execution_count": null,
   "metadata": {},
   "outputs": [],
   "source": [
    "# compute shortest path\n",
    "routing(from_node, to_node, False, True)"
   ]
  },
  {
   "cell_type": "code",
   "execution_count": null,
   "metadata": {},
   "outputs": [],
   "source": [
    "#compute bikeable path\n",
    "routing(from_node, to_node, True, True)"
   ]
  },
  {
   "cell_type": "markdown",
   "metadata": {},
   "source": [
    "## Accessibility (single POI node)\n",
    "In this example, we will compute several routes from a given POI node.\n",
    "First, the origin node is defined. Then, a distance cutoff value is set and all nodes within this maximum radius are fetched. "
   ]
  },
  {
   "cell_type": "code",
   "execution_count": null,
   "metadata": {},
   "outputs": [],
   "source": [
    "orig_node = from_node\n",
    "orig_node_geom = nodes.loc[orig_node].geometry\n",
    "dist_cutoff = 2000 # in map units (meter)\n",
    "#destination nodes: all nodes within distance limits\n",
    "nodes_dist = nodes.geometry.distance(nodes.loc[orig_node].geometry)\n",
    "node_ids_filtered = nodes_dist[nodes_dist <= dist_cutoff].index\n",
    "dest_nodes = nodes.loc[node_ids_filtered]\n",
    "dest_nodes[\"dist\"] = nodes_dist\n",
    "m = dest_nodes.explore(tiles=\"CartoDB Positron\")\n",
    "gpd.GeoDataFrame(pd.DataFrame(nodes.loc[orig_node]).T, crs=nodes.crs).explore(m=m, color=[\"red\"],\n",
    "                                                                              marker_kwds={\"radius\":5}, style_kwds={\"weight\":2})"
   ]
  },
  {
   "cell_type": "markdown",
   "metadata": {},
   "source": [
    "We now draw a random sample from these nodes. These will be used for routing."
   ]
  },
  {
   "cell_type": "code",
   "execution_count": null,
   "metadata": {},
   "outputs": [],
   "source": [
    "node_sample_n = 500\n",
    "if len(dest_nodes) > node_sample_n:\n",
    "    dest_nodes = dest_nodes.sample(node_sample_n)\n",
    "m = dest_nodes.explore(tiles=\"CartoDB Positron\")\n",
    "gpd.GeoDataFrame(pd.DataFrame(nodes.loc[orig_node]).T, crs=nodes.crs).explore(m=m, color=[\"red\"],\n",
    "                                                                              marker_kwds={\"radius\":5}, style_kwds={\"weight\":2})"
   ]
  },
  {
   "cell_type": "markdown",
   "metadata": {},
   "source": [
    "Here, we define the routing function that will be called per destination node."
   ]
  },
  {
   "cell_type": "code",
   "execution_count": null,
   "metadata": {},
   "outputs": [],
   "source": [
    "def comp_single_route(node_id):\n",
    "    return routing(orig_node, node_id, True, False)\n",
    "# store node id in separate column\n",
    "dest_nodes[\"node_id\"] = dest_nodes.index"
   ]
  },
  {
   "cell_type": "markdown",
   "metadata": {},
   "source": [
    "In the following step, the routing function is called per destination node and the results (route statistics) are joined to the node DataFrame."
   ]
  },
  {
   "cell_type": "code",
   "execution_count": null,
   "metadata": {},
   "outputs": [],
   "source": [
    "results = dest_nodes.join(dest_nodes.node_id.apply(comp_single_route))\n",
    "results"
   ]
  },
  {
   "cell_type": "markdown",
   "metadata": {},
   "source": [
    "Now we can visualize the results and assess various aspects - e.g. the length-weighted average bikeability, minimum and maximum bikeability per route\n",
    "\n",
    "### Length-weighted average bikeability"
   ]
  },
  {
   "cell_type": "code",
   "execution_count": null,
   "metadata": {},
   "outputs": [],
   "source": [
    "m = results.explore(column=\"length_weighted_avg_index\", cmap=\"RdYlGn\", vmin=0, vmax=1, tiles=\"CartoDB Positron\")\n",
    "gpd.GeoDataFrame(pd.DataFrame(nodes.loc[orig_node]).T, crs=nodes.crs).explore(m=m, color=[\"red\"],\n",
    "                                                                              marker_kwds={\"radius\":5}, style_kwds={\"weight\":2})"
   ]
  },
  {
   "cell_type": "markdown",
   "metadata": {},
   "source": [
    "### Lowest bikeability per route"
   ]
  },
  {
   "cell_type": "code",
   "execution_count": null,
   "metadata": {},
   "outputs": [],
   "source": [
    "m = results.explore(column=\"min_index\", cmap=\"RdYlGn\", vmin=0, vmax=1, tiles=\"CartoDB Positron\")\n",
    "gpd.GeoDataFrame(pd.DataFrame(nodes.loc[orig_node]).T, crs=nodes.crs).explore(m=m, color=[\"red\"],\n",
    "                                                                              marker_kwds={\"radius\":5}, style_kwds={\"weight\":2})"
   ]
  },
  {
   "cell_type": "code",
   "execution_count": null,
   "metadata": {},
   "outputs": [],
   "source": [
    "m = results[results.min_index > 0.5].explore(tiles=\"CartoDB DarkMatter\", column=\"length_weighted_avg_index\", cmap=\"RdYlGn\", vmin=0, vmax=1)\n",
    "gpd.GeoDataFrame(pd.DataFrame(nodes.loc[orig_node]).T, crs=nodes.crs).explore(m=m, color=[\"red\"],\n",
    "                                                                              marker_kwds={\"radius\":5}, style_kwds={\"weight\":2})"
   ]
  },
  {
   "cell_type": "markdown",
   "metadata": {},
   "source": [
    "### Highest bikeability per route"
   ]
  },
  {
   "cell_type": "code",
   "execution_count": null,
   "metadata": {},
   "outputs": [],
   "source": [
    "m = results.explore(column=\"max_index\", cmap=\"RdYlGn\", vmin=0, vmax=1, tiles=\"CartoDB Positron\")\n",
    "gpd.GeoDataFrame(pd.DataFrame(nodes.loc[orig_node]).T, crs=nodes.crs).explore(m=m, color=[\"red\"],\n",
    "                                                                              marker_kwds={\"radius\":5}, style_kwds={\"weight\":2})"
   ]
  },
  {
   "cell_type": "markdown",
   "metadata": {},
   "source": [
    "Furthermore, we can set a network distance limit (max. route length):"
   ]
  },
  {
   "cell_type": "code",
   "execution_count": null,
   "metadata": {},
   "outputs": [],
   "source": [
    "# add buffer with r=dist_cutoff (straight-line distance)\n",
    "m = gpd.GeoDataFrame({\"idx\":[\"buffer\"],\"geometry\":[nodes.loc[orig_node].geometry.buffer(dist_cutoff)]}, crs=nodes.crs).explore(\n",
    "        color=[\"#DEDEDE\"],marker_kwds={\"radius\":5}, style_kwds={\"weight\":2}, tiles=\"CartoDB DarkMatter\", popup=None, tooltip=None, interactive=False)\n",
    "# add nodes within max. distance of dist_cutoff\n",
    "results[results.total_length < dist_cutoff].explore(m=m, column=\"length_weighted_avg_index\", cmap=\"RdYlGn\", vmin=0, vmax=1)\n",
    "# display origin node\n",
    "gpd.GeoDataFrame(pd.DataFrame(nodes.loc[orig_node]).T, crs=nodes.crs).explore(m=m, color=[\"red\"],\n",
    "                                                                              marker_kwds={\"radius\":5}, style_kwds={\"weight\":2})"
   ]
  },
  {
   "cell_type": "markdown",
   "metadata": {},
   "source": [
    "## Additional network characteristics"
   ]
  },
  {
   "cell_type": "markdown",
   "metadata": {},
   "source": [
    "### Centrality metrics\n",
    "As some of these measures have higher computational complexity, we use a subset of the network as input.\n",
    "However, please be aware that subsetting and the choice of the area of interest have substantial impact on centrality results (except degree centrality)."
   ]
  },
  {
   "cell_type": "code",
   "execution_count": null,
   "metadata": {},
   "outputs": [],
   "source": [
    "subset_nodes = nodes.loc[node_ids_filtered]\n",
    "sub_g = g.subgraph(subset_nodes.index)\n"
   ]
  },
  {
   "cell_type": "markdown",
   "metadata": {},
   "source": [
    "#### Nodes: degree centrality\n",
    "This measure represents the number of links connected to each node"
   ]
  },
  {
   "cell_type": "code",
   "execution_count": null,
   "metadata": {},
   "outputs": [],
   "source": [
    "c_deg = pd.DataFrame(sub_g.degree(), columns=[\"idx\", \"degree\"]).set_index(\"idx\")\n",
    "subset_nodes.join(c_deg).explore(column=\"degree\", tiles=\"CartoDB DarkMatter\")"
   ]
  },
  {
   "cell_type": "markdown",
   "metadata": {},
   "source": [
    "#### Nodes: closeness centrality\n",
    "Closeness represents the average shortest path distance of all reachable nodes to each node.\n",
    "Caution: this requires computing all shortest paths within the given network and therefore may result in long computation time."
   ]
  },
  {
   "cell_type": "code",
   "execution_count": null,
   "metadata": {},
   "outputs": [],
   "source": [
    "c_clo = pd.DataFrame.from_dict({\"closeness\": nx.closeness_centrality(sub_g, distance=\"length\")})\n",
    "subset_nodes.join(c_clo).explore(column=\"closeness\", tiles=\"CartoDB DarkMatter\")"
   ]
  },
  {
   "cell_type": "markdown",
   "metadata": {},
   "source": [
    "### Edges: betweenness centrality\n",
    "This is an example for computing standard edge betweenness centrality. It represents the share of shortest paths that pass each edge. \n",
    "The function `add_centr_to_netascore` is defined in [algo/net_helper.py](algo/net_helper.py) and abstracts the steps for direction-aware assignment of results per input edge."
   ]
  },
  {
   "cell_type": "code",
   "execution_count": null,
   "metadata": {},
   "outputs": [],
   "source": [
    "bc = nx.edge_betweenness_centrality(sub_g, k=250, weight=\"length\")"
   ]
  },
  {
   "cell_type": "code",
   "execution_count": null,
   "metadata": {},
   "outputs": [],
   "source": [
    "nh.add_centr_to_netascore(net, bc, \"bc_sp\")\n",
    "# display centrality for segments with centr. > 1% of maximum centrality\n",
    "net[net.centr_bc_sp_sum > net.centr_bc_sp_sum.max()*0.01].explore(column=\"centr_bc_sp_sum\", \n",
    "                    tiles=\"CartoDB DarkMatter\", interactive=False, popup=None, tooltip=None)"
   ]
  },
  {
   "cell_type": "markdown",
   "metadata": {},
   "source": [
    "#### ...same for bikeable paths"
   ]
  },
  {
   "cell_type": "code",
   "execution_count": null,
   "metadata": {},
   "outputs": [],
   "source": [
    "bc_bp = nx.edge_betweenness_centrality(sub_g, k=250, weight=\"cost_bike_ft\")"
   ]
  },
  {
   "cell_type": "code",
   "execution_count": null,
   "metadata": {},
   "outputs": [],
   "source": [
    "nh.add_centr_to_netascore(net, bc_bp, \"bc_bp\")\n",
    "# display centrality for segments with centr. > 1% of maximum centrality\n",
    "net[net.centr_bc_bp_sum > net.centr_bc_bp_sum.max()*0.01].explore(column=\"centr_bc_bp_sum\", \n",
    "                    tiles=\"CartoDB DarkMatter\", interactive=False, popup=None, tooltip=None)"
   ]
  }
 ],
 "metadata": {
  "kernelspec": {
   "display_name": "mobility_ws24",
   "language": "python",
   "name": "python3"
  },
  "language_info": {
   "codemirror_mode": {
    "name": "ipython",
    "version": 3
   },
   "file_extension": ".py",
   "mimetype": "text/x-python",
   "name": "python",
   "nbconvert_exporter": "python",
   "pygments_lexer": "ipython3",
   "version": "3.12.4"
  }
 },
 "nbformat": 4,
 "nbformat_minor": 2
}
