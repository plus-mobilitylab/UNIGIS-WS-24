{
 "cells": [
  {
   "cell_type": "markdown",
   "metadata": {},
   "source": [
    "# Interactive Notebook: Network Assessment for Active Mobility\n",
    "\n",
    "This Jupyter-Notebook guides through several network assessments based on NetAScore output.\n",
    "In order to execute this Notebook, please make sure to have all requirements fulfilled - please follow the instructions in [README.md](README.md).\n",
    "\n",
    "If you do not have a NetAScore output file at hand, please download one of the example files from https://doi.org/10.5281/zenodo.10886962 and place it inside the subdirectory `NetAScore/data/`."
   ]
  },
  {
   "cell_type": "code",
   "execution_count": null,
   "metadata": {},
   "outputs": [],
   "source": [
    "# import required packages\n",
    "import geopandas as gpd\n",
    "import networkx as nx\n",
    "import os\n",
    "\n",
    "# settings\n",
    "case_id = \"at_salzburg\"\n",
    "\n",
    "# computed properties\n",
    "net_file = os.path.join(\"NetAScore\", \"data\", f\"netascore_{case_id}.gpkg\")"
   ]
  },
  {
   "cell_type": "markdown",
   "metadata": {},
   "source": [
    "## Load the network and start exploring bikeability...\n",
    "Here, we load the network which was processed by NetAScore and output the first 10 rows (edges)."
   ]
  },
  {
   "cell_type": "code",
   "execution_count": null,
   "metadata": {},
   "outputs": [],
   "source": [
    "net = gpd.read_file(net_file, layer=\"edge\")\n",
    "net.head()"
   ]
  },
  {
   "cell_type": "markdown",
   "metadata": {},
   "source": [
    "Let's filter the network to only show segments with high bikeability and display the result on a map."
   ]
  },
  {
   "cell_type": "code",
   "execution_count": null,
   "metadata": {},
   "outputs": [],
   "source": [
    "net[net.index_bike_ft > 0.75].explore()"
   ]
  },
  {
   "cell_type": "markdown",
   "metadata": {},
   "source": [
    "We can also choose a different basemap with reduced color scheme:\n",
    "(see online documentation for more options: [GeoDataFrame.explore()](https://geopandas.org/en/stable/docs/reference/api/geopandas.GeoDataFrame.explore.html))"
   ]
  },
  {
   "cell_type": "code",
   "execution_count": null,
   "metadata": {},
   "outputs": [],
   "source": [
    "net[net.index_bike_ft > 0.75].explore(tiles=\"CartoDB Positron\")"
   ]
  },
  {
   "cell_type": "markdown",
   "metadata": {},
   "source": [
    "...and we can further apply a color scheme to plot the high-bikeability according to their bikeability value:"
   ]
  },
  {
   "cell_type": "code",
   "execution_count": null,
   "metadata": {},
   "outputs": [],
   "source": [
    "net[net.index_bike_ft > 0.75].explore(column=\"index_bike_ft\", cmap=\"Blues\", tiles=\"CartoDB Positron\")"
   ]
  },
  {
   "cell_type": "markdown",
   "metadata": {},
   "source": [
    "## Let's prepare our network for routing...\n",
    "First, we need to generate a directed graph from our input data. Having an input edge (A<->B) with an index_ft and index_tf will result in two rows: (A->B, index_ft) and (B->A, index_tf). \n",
    "Furthermore, we want to not only compute shortest paths, but allow for computing bikeable routes as well. For this, we need to compute a routing cost per segment. This can be regarded as perceived distance: better suitability means perceived distance is close to real distance, low suitability results in perceived distance is (1+ROUTING_FACTOR) * length (with default setting: up to five times real segment length).\n",
    "All of these steps are outsourced into a function `netascore_to_routable_net` which is defined in [algo/net_helper.py](algo/net_helper.py).\n",
    "\n",
    "To execute this step, we simply call the function as follows:"
   ]
  },
  {
   "cell_type": "code",
   "execution_count": null,
   "metadata": {},
   "outputs": [],
   "source": [
    "import algo.net_helper as nh\n",
    "net_routing = nh.netascore_to_routable_net(net)"
   ]
  },
  {
   "cell_type": "markdown",
   "metadata": {},
   "source": [
    "Next, we have to create a NetworkX graph object from our edge list representation of the network.\n",
    "We use a `MultiDiGraph` to allow for multiple directed links between nodes:"
   ]
  },
  {
   "cell_type": "code",
   "execution_count": null,
   "metadata": {},
   "outputs": [],
   "source": [
    "g = nx.from_pandas_edgelist(net_routing, source='from_node', target='to_node', \n",
    "                            edge_attr=True, create_using=nx.MultiDiGraph, edge_key=\"edge_id\")\n",
    "g"
   ]
  },
  {
   "cell_type": "markdown",
   "metadata": {},
   "source": [
    "## Load and display the nodes layer\n",
    "As basis for computing routes between pairs of nodes of the network, we will first load and display the nodes layer."
   ]
  },
  {
   "cell_type": "code",
   "execution_count": null,
   "metadata": {},
   "outputs": [],
   "source": [
    "nodes = gpd.read_file(net_file, engine='pyogrio', fid_as_index=True, layer=\"node\")\n",
    "#nodes = gpd.read_file(net_file, layer=\"node\")\n",
    "#nodes[\"id\"] = nodes.index + 1\n",
    "nodes.explore(tiles=\"CartoDB Positron\", marker_kwds={\"radius\":2}, style_kwds={\"stroke\":False})"
   ]
  },
  {
   "cell_type": "markdown",
   "metadata": {},
   "source": [
    "Next, we can manually select an origin node as well as a destination node from the interactive map and assign the respective nodeIDs to the variables `from_node` and `to_node`."
   ]
  },
  {
   "cell_type": "code",
   "execution_count": null,
   "metadata": {},
   "outputs": [],
   "source": [
    "from_node = 21181  #20741\n",
    "to_node = 23302  #25235"
   ]
  },
  {
   "cell_type": "markdown",
   "metadata": {},
   "source": [
    "## Compute routes\n",
    "Now, we can compute routes...\n",
    "### General routing approach"
   ]
  },
  {
   "cell_type": "code",
   "execution_count": null,
   "metadata": {},
   "outputs": [],
   "source": [
    "npath = nx.shortest_path(g, from_node, to_node) # this call results in computing the shortest (lowest number of passed segments) path\n",
    "npath"
   ]
  },
  {
   "cell_type": "markdown",
   "metadata": {},
   "source": [
    "For visualization, we need to retrieve an edge sequence from the node sequence returned by `nx.shortest_path`:"
   ]
  },
  {
   "cell_type": "code",
   "execution_count": null,
   "metadata": {},
   "outputs": [],
   "source": [
    "# get edge sequence (edge IDs)\n",
    "def get_epath(nseq):\n",
    "    ep = []\n",
    "    for i in range(len(nseq)-1):\n",
    "        dta = g.get_edge_data(nseq[i], nseq[i+1])\n",
    "        eid = list(dta.keys())[0]\n",
    "        ep.append(eid)\n",
    "    return ep\n",
    "\n",
    "epath = get_epath(npath)\n",
    "epath"
   ]
  },
  {
   "cell_type": "code",
   "execution_count": null,
   "metadata": {},
   "outputs": [],
   "source": [
    "m = net.loc[epath].explore(tiles=\"CartoDB Positron\")\n",
    "nodes.loc[[from_node, to_node]].explore(m=m, color=[\"green\", \"red\"], marker_kwds={\"radius\":5}, style_kwds={\"weight\":2})"
   ]
  },
  {
   "cell_type": "markdown",
   "metadata": {},
   "source": [
    "### Shortest distance path\n",
    "In order to retrieve the shortest distance path, we need to specify the edge weight column - in this case we use the \"length\" attribute."
   ]
  },
  {
   "cell_type": "code",
   "execution_count": null,
   "metadata": {},
   "outputs": [],
   "source": [
    "shortest_dist_path = get_epath(nx.shortest_path(g, from_node, to_node, weight=\"length\"))\n",
    "m = net_routing.loc[shortest_dist_path].explore(tiles=\"CartoDB Positron\", tooltip=[\"cost_bike_ft\"])\n",
    "nodes.loc[[from_node, to_node]].explore(m=m, color=[\"green\", \"red\"], marker_kwds={\"radius\":5}, style_kwds={\"weight\":2})"
   ]
  },
  {
   "cell_type": "markdown",
   "metadata": {},
   "source": [
    "### Bikeable path\n",
    "Here, we use the `cost_bike_ft` column which contains our pre-computed \"perceived distance\" value."
   ]
  },
  {
   "cell_type": "code",
   "execution_count": null,
   "metadata": {},
   "outputs": [],
   "source": [
    "bikeable_path = get_epath(nx.shortest_path(g, from_node, to_node, weight=\"cost_bike_ft\"))\n",
    "m = net.loc[bikeable_path].explore(tiles=\"CartoDB Positron\")\n",
    "nodes.loc[[from_node, to_node]].explore(m=m, color=[\"green\", \"red\"], marker_kwds={\"radius\":5}, style_kwds={\"weight\":2})"
   ]
  },
  {
   "cell_type": "markdown",
   "metadata": {},
   "source": [
    "## Additionally retrieve edge length and bikeability values\n",
    "To allow retrieving additional attributes, we need to keep track of the direction of edge traversal in addition to the edge ID."
   ]
  },
  {
   "cell_type": "code",
   "execution_count": null,
   "metadata": {},
   "outputs": [],
   "source": [
    "import pandas as pd\n",
    "# get edge sequence including \"inverted\" attribute (direction of traversal)\n",
    "def get_epath_dir(nseq):\n",
    "    ep = []\n",
    "    inv = []\n",
    "    for i in range(len(nseq)-1):\n",
    "        dta = g.get_edge_data(nseq[i], nseq[i+1])\n",
    "        eid = list(dta.keys())[0]\n",
    "        ep.append(eid)\n",
    "        inv.append(dta[eid][\"inv\"])\n",
    "        #print(eid,dta[eid][\"inv\"])\n",
    "    return pd.DataFrame(data={\"edge_id\":ep, \"inv\":inv})\n"
   ]
  },
  {
   "cell_type": "code",
   "execution_count": null,
   "metadata": {},
   "outputs": [],
   "source": [
    "bp = get_epath_dir(nx.shortest_path(g, from_node, to_node, weight=\"cost_bike_ft\"))\n",
    "bp.head(5)"
   ]
  },
  {
   "cell_type": "markdown",
   "metadata": {},
   "source": [
    "Now we have to prepare the \"net_routing\" DataFrame for allowing join operations with the routing result. For this, we now need to have a MultiIndex, allowing to jointly query/filter based on `edge_id` and `inv`."
   ]
  },
  {
   "cell_type": "code",
   "execution_count": null,
   "metadata": {},
   "outputs": [],
   "source": [
    "net_routing.head(5)"
   ]
  },
  {
   "cell_type": "code",
   "execution_count": null,
   "metadata": {},
   "outputs": [],
   "source": [
    "net_join = net_routing.set_index([\"edge_id\", \"inv\"])\n",
    "net_join.head(5)"
   ]
  },
  {
   "cell_type": "markdown",
   "metadata": {},
   "source": [
    "In the following step we can join the path result with the just prepared network data by the joint key, using the edge ID and direction (inv)."
   ]
  },
  {
   "cell_type": "code",
   "execution_count": null,
   "metadata": {},
   "outputs": [],
   "source": [
    "bp_joined = net_join.join(bp.set_index([\"edge_id\", \"inv\"]), how=\"right\")\n",
    "bp_joined.head(5)"
   ]
  },
  {
   "cell_type": "markdown",
   "metadata": {},
   "source": [
    "This now allows us to plot additional route characteristics - here, the bikeability of each segment:"
   ]
  },
  {
   "cell_type": "code",
   "execution_count": null,
   "metadata": {},
   "outputs": [],
   "source": [
    "m = bp_joined.explore(tiles=\"CartoDB Positron\", column=\"index_bike_ft\", cmap=\"RdYlGn\", vmin=0, vmax=1)\n",
    "nodes.loc[[from_node, to_node]].explore(m=m, color=[\"green\", \"red\"], marker_kwds={\"radius\":5}, style_kwds={\"weight\":2})"
   ]
  },
  {
   "cell_type": "markdown",
   "metadata": {},
   "source": [
    "...and we can compute additional path statistics:"
   ]
  },
  {
   "cell_type": "code",
   "execution_count": null,
   "metadata": {},
   "outputs": [],
   "source": [
    "def get_path_stats(path_df):\n",
    "    length = path_df[\"length\"].sum()\n",
    "    length_weighted_avg_index = (path_df.index_bike_ft * path_df.length).sum() / path_df.length.sum()\n",
    "    min_index = path_df.index_bike_ft.min()\n",
    "    max_index = path_df.index_bike_ft.max()\n",
    "    return {\"total_length\": length, \"length_weighted_avg_index\": length_weighted_avg_index, \n",
    "            \"min_index\": min_index, \"max_index\": max_index}"
   ]
  },
  {
   "cell_type": "code",
   "execution_count": null,
   "metadata": {},
   "outputs": [],
   "source": [
    "get_path_stats(bp_joined)"
   ]
  },
  {
   "cell_type": "markdown",
   "metadata": {},
   "source": [
    "## Make the routing part re-usable"
   ]
  },
  {
   "cell_type": "code",
   "execution_count": null,
   "metadata": {},
   "outputs": [],
   "source": [
    "def routing(from_node:int, to_node:int, compute_bikeable_path:bool, display_route:bool):\n",
    "    weight_col = \"cost_bike_ft\"\n",
    "    if not compute_bikeable_path:\n",
    "        weight_col = \"length\"\n",
    "    path = get_epath_dir(nx.shortest_path(g, from_node, to_node, weight=weight_col))\n",
    "    net_join = net_routing.set_index([\"edge_id\", \"inv\"])\n",
    "    path_joined = net_join.join(path.set_index([\"edge_id\", \"inv\"]), how=\"right\")\n",
    "    if display_route:\n",
    "        m = path_joined.explore(tiles=\"CartoDB Positron\", column=\"index_bike_ft\", cmap=\"RdYlGn\", vmin=0, vmax=1)\n",
    "        display(nodes.loc[[from_node, to_node]].explore(m=m, color=[\"green\", \"red\"], marker_kwds={\"radius\":5}, style_kwds={\"weight\":2}))\n",
    "    return get_path_stats(path_joined)"
   ]
  },
  {
   "cell_type": "code",
   "execution_count": null,
   "metadata": {},
   "outputs": [],
   "source": [
    "# compute shortest path\n",
    "routing(from_node, to_node, False, True)"
   ]
  },
  {
   "cell_type": "code",
   "execution_count": null,
   "metadata": {},
   "outputs": [],
   "source": [
    "#compute bikeable path\n",
    "routing(from_node, to_node, True, True)"
   ]
  }
 ],
 "metadata": {
  "kernelspec": {
   "display_name": "mobility_ws24",
   "language": "python",
   "name": "python3"
  },
  "language_info": {
   "codemirror_mode": {
    "name": "ipython",
    "version": 3
   },
   "file_extension": ".py",
   "mimetype": "text/x-python",
   "name": "python",
   "nbconvert_exporter": "python",
   "pygments_lexer": "ipython3",
   "version": "3.12.4"
  }
 },
 "nbformat": 4,
 "nbformat_minor": 2
}
